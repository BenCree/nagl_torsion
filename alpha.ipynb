{
 "cells": [
  {
   "cell_type": "code",
   "execution_count": 1,
   "id": "fcaf66ca-d7b9-495a-b06e-90c2a05b9e86",
   "metadata": {},
   "outputs": [
    {
     "name": "stdout",
     "output_type": "stream",
     "text": [
      "original s: [1.00000000e+00 1.55431223e-15], \n",
      "rotated s: [0.99500417 0.09983342]\n",
      "1.570796326794895 1.4707963267948945\n"
     ]
    }
   ],
   "source": [
    "import numpy as np\n",
    "\n",
    "pi = np.pi\n",
    "\n",
    "# loop through all torsions for C -- C bond\n",
    "delta_ij = np.array([0, 2*pi/3, 4*pi/3, 4*pi/3, 0, 2*pi/3, 2*pi/3, 4*pi/3, 0])\n",
    "\n",
    "#c_hidx,hidx\n",
    "c_25 = 4\n",
    "c_26 = 2\n",
    "c_27 = 2\n",
    "c_35 = 2\n",
    "c_36 = 1\n",
    "c_37 = 1\n",
    "c_45 = 2\n",
    "c_46 = 1\n",
    "c_47 = 1\n",
    "\n",
    "#c_25 = 2\n",
    "#c_26 = 4\n",
    "#c_27 = 2\n",
    "#c_35 = 1\n",
    "#c_36 = 2\n",
    "#c_37 = 1\n",
    "#c_45 = 1\n",
    "#c_46 = 2\n",
    "#c_47 = 1\n",
    "\n",
    "c_ij = np.array([c_25, c_26, c_27, c_35, c_36, c_37, c_45, c_46, c_47])\n",
    "\n",
    "def calc_s(delta_ij, c_ij):\n",
    "    '''given ∆_(ij) returns a vector [cos(∆_(ij)), sin(∆_(ij))], s'''\n",
    "    # turn into a 9X2 array\n",
    "    s_ij = np.vstack((np.cos(delta_ij), np.sin(delta_ij))).T \n",
    "    \n",
    "    cs_ij = c_ij[:, np.newaxis] * s_ij\n",
    "    #print(f'c*s = {s_ij}')\n",
    "    s = np.sum(cs_ij, axis=0)\n",
    "    return s\n",
    "\n",
    "def calc_alpha(s):\n",
    "    '''given s returns a torsion angle, alpha'''\n",
    "    r = np.sqrt(s[0]**2 + s[1]**2)\n",
    "    #alpha = np.arctan2(r*np.cos(s[0]/r), r*np.sin(s[1]/r)) # probably wrong\n",
    "    alpha = np.arctan2(s[0] / r, s[1] / r)\n",
    "    \n",
    "    return alpha\n",
    "\n",
    "# rotate by some amount\n",
    "gamma = 0.1\n",
    "\n",
    "rotated_delta_ij = delta_ij + gamma\n",
    "#print(f'original torsions: {delta_ij}, \\nrotated torsions: {rotated_delta_ij}')\n",
    "\n",
    "s = calc_s(delta_ij, c_ij)\n",
    "#print(s)\n",
    "s_rotated = calc_s(rotated_delta_ij, c_ij)\n",
    "print(f'original s: {s}, \\nrotated s: {s_rotated}')\n",
    "\n",
    "a = calc_alpha(s)\n",
    "a_rotated = calc_alpha(s_rotated)\n",
    "#print(f'original a: {a}, \\nrotated a: {a_rotated}')\n",
    "#print((a_rotated - a)/pi)\n",
    "\n",
    "print(a, a_rotated)"
   ]
  },
  {
   "cell_type": "code",
   "execution_count": 2,
   "id": "70ccba49-0d03-4d67-ad91-7c5111bcdb2a",
   "metadata": {},
   "outputs": [
    {
     "data": {
      "image/png": "[encoded data removed]",
      "text/plain": [
       "<Figure size 640x480 with 1 Axes>"
      ]
     },
     "metadata": {},
     "output_type": "display_data"
    }
   ],
   "source": [
    "import pylab\n",
    "\n",
    "rotated_delta_ij = delta_ij\n",
    "a_list = []\n",
    "\n",
    "for i in range(1000):\n",
    "    gamma = 2*pi/1000\n",
    "\n",
    "    for j in range(9):\n",
    "        if rotated_delta_ij[j] + gamma < 2*pi:\n",
    "            rotated_delta_ij[j] = rotated_delta_ij[j] + gamma\n",
    "        else:\n",
    "            rotated_delta_ij[j] = rotated_delta_ij[j] + gamma - 2*pi\n",
    "        \n",
    "    s_rotated = calc_s(rotated_delta_ij, c_ij)\n",
    "    a_rotated = calc_alpha(s_rotated)\n",
    "    a_list.append(a_rotated)\n",
    "\n",
    "x_list = np.linspace(0, 2*pi, 1000)\n",
    "pylab.plot(x_list, a_list)\n",
    "pylab.ylabel(\"alpha / rad\")\n",
    "pylab.xlabel(\"gamma / rad\")\n",
    "pylab.savefig(\"out.png\")"
   ]
  },
  {
   "cell_type": "code",
   "execution_count": 3,
   "id": "6d26ef0a-4009-4fcb-9746-61880f81fd70",
   "metadata": {},
   "outputs": [],
   "source": [
    "\n",
    "\n",
    "# # folder = pathlib.Path(\"TNet500_minimal\")\n",
    "# # outputfile = h5py.File('TNet500-SPICE.hdf5', 'w')\n",
    "\n",
    "# file = 'biaryl_minimal/result_biaryl_016.json'\n",
    "# td_result = TorsionDriveResult.parse_file(file)\n",
    "# folder = pathlib.Path(\"biaryl_minimal\")\n",
    "# energies, gradients, conformations = [], [], []\n",
    "# for angle, molecule in td_result.final_molecules.items():\n",
    "#     energies.append(td_result.final_energies[angle])\n",
    "#     conformations.append(molecule.geometry)\n",
    "#     gradients.append(td_result.optimization_history[angle][0].trajectory[0].properties.return_gradient)\n",
    "# if \"conformations\" in group:\n",
    "#     del group[\"conformations\"]  # delete existing dataset if it exists\n",
    "# conformations = group.create_dataset(\"conformations\", data=np.array(conformations), dtype=np.float32)\n",
    "# conformations.attrs[\"units\"] = \"bohr\"\n",
    "# if \"dft total energy\" in group:\n",
    "#     del group[\"dft total energy\"]\n",
    "# ds = group.create_dataset(\"dft total energy\", data=np.array(energies), dtype=np.float64)\n",
    "# ds.attrs[\"units\"] = \"hartree\"\n",
    "# if \"dft total gradient\" in group:\n",
    "#     del group[\"dft total gradient\"]\n",
    "# ds = group.create_dataset('dft total gradient', data=np.array(gradients), dtype=np.float32)\n",
    "# ds.attrs[\"units\"] = \"hartree/bohr\"\n",
    "\n",
    "# td_result.keywords.dihedrals[0]\n",
    "\n",
    "# # 17 atoms\n",
    "# # 24 confs\n",
    "# # 3 coords\n",
    "# import rdkit\n",
    "# from rdkit import Chem\n",
    "# from rdkit.Chem import AllChem\n",
    "\n",
    "# mol_16_90 = td_result.final_molecules['-90']\n",
    "# mol_16_165 = td_result.final_molecules['-165']"
   ]
  },
  {
   "cell_type": "code",
   "execution_count": 4,
   "id": "58ab3599-7762-496a-aa87-625ac7b8f5e7",
   "metadata": {
    "scrolled": true
   },
   "outputs": [
    {
     "data": {
      "text/plain": [
       "{'-165': -816.505816559494,\n",
       " '-150': -816.5039187209546,\n",
       " '-135': -816.5011012287301,\n",
       " '-120': -816.4979629209311,\n",
       " '-105': -816.4954187225007,\n",
       " '-90': -816.494428046986,\n",
       " '-75': -816.4954301422798,\n",
       " '-60': -816.4979679186425,\n",
       " '-45': -816.5010865037865,\n",
       " '-30': -816.5038982293839,\n",
       " '-15': -816.5058087109574,\n",
       " '0': -816.506481242779,\n",
       " '15': -816.505808917845,\n",
       " '30': -816.5038983176088,\n",
       " '45': -816.5010866947375,\n",
       " '60': -816.4979678635927,\n",
       " '75': -816.4954297335078,\n",
       " '90': -816.4944281315253,\n",
       " '105': -816.495418981877,\n",
       " '120': -816.4979625597838,\n",
       " '135': -816.5011010654134,\n",
       " '150': -816.5039187926249,\n",
       " '165': -816.5058167183216,\n",
       " '180': -816.5064807405599}"
      ]
     },
     "execution_count": 4,
     "metadata": {},
     "output_type": "execute_result"
    }
   ],
   "source": [
    "from rdkit import Chem\n",
    "from rdkit.Chem import AllChem\n",
    "from rdkit.Geometry import Point3D\n",
    "import numpy as np\n",
    "import qcelemental\n",
    "import h5py\n",
    "from qcelemental.models.procedures import TorsionDriveResult\n",
    "import numpy as np\n",
    "import pathlib\n",
    "\n",
    "outputfile = h5py.File('xBiaryl-SPICE.hdf5', 'w')\n",
    "\n",
    "def parse_qcjson(filename):\n",
    "    td_result = TorsionDriveResult.parse_file(filename)\n",
    "    smiles = td_result.initial_molecule[0].extras[\"canonical_isomeric_explicit_hydrogen_mapped_smiles\"]\n",
    "    name = smiles.replace(\"/\", \"\")\n",
    "    # unused as of yet\n",
    "    group = outputfile.create_group(name)\n",
    "    group.create_dataset(\"smiles\", data=[smiles], dtype=h5py.string_dtype())\n",
    "    group.create_dataset(\"atomic_numbers\", data=td_result.initial_molecule[0].atomic_numbers, dtype=np.int16)\n",
    "    energies, gradients, conformations = [], [], []\n",
    "    for angle, molecule in td_result.final_molecules.items():\n",
    "        energies.append(td_result.final_energies[angle])\n",
    "        conformations.append(molecule.geometry)\n",
    "        gradients.append(td_result.optimization_history[angle][0].trajectory[0].properties.return_gradient)\n",
    "    if \"conformations\" in group:\n",
    "        del group[\"conformations\"]  # delete existing dataset if it exists\n",
    "    conformations = group.create_dataset(\"conformations\", data=np.array(conformations), dtype=np.float32)\n",
    "    conformations.attrs[\"units\"] = \"bohr\"\n",
    "    if \"dft total energy\" in group:\n",
    "        del group[\"dft total energy\"]\n",
    "    ds = group.create_dataset(\"dft total energy\", data=np.array(energies), dtype=np.float64)\n",
    "    ds.attrs[\"units\"] = \"hartree\"\n",
    "    if \"dft total gradient\" in group:\n",
    "        del group[\"dft total gradient\"]\n",
    "    ds = group.create_dataset('dft total gradient', data=np.array(gradients), dtype=np.float32)\n",
    "    ds.attrs[\"units\"] = \"hartree/bohr\"\n",
    "    \n",
    "    return td_result\n",
    "\n",
    "filename = 'biaryl_minimal/result_biaryl_016.json'\n",
    "td_result = parse_qcjson(filename)\n",
    "td_result.final_energies"
   ]
  },
  {
   "cell_type": "code",
   "execution_count": 5,
   "id": "72165422-128c-4118-8c3d-77e52c79e04a",
   "metadata": {
    "scrolled": true
   },
   "outputs": [
    {
     "name": "stdout",
     "output_type": "stream",
     "text": [
      "-816.505816559494\n",
      "-816.5039187209546\n",
      "-816.5011012287301\n",
      "-816.4979629209311\n",
      "-816.4954187225007\n",
      "-816.494428046986\n",
      "-816.4954301422798\n",
      "-816.4979679186425\n",
      "-816.5010865037865\n",
      "-816.5038982293839\n",
      "-816.5058087109574\n",
      "-816.506481242779\n",
      "-816.505808917845\n",
      "-816.5038983176088\n",
      "-816.5010866947375\n",
      "-816.4979678635927\n",
      "-816.4954297335078\n",
      "-816.4944281315253\n",
      "-816.495418981877\n",
      "-816.4979625597838\n",
      "-816.5011010654134\n",
      "-816.5039187926249\n",
      "-816.5058167183216\n",
      "-816.5064807405599\n"
     ]
    },
    {
     "data": {
      "text/plain": [
       "{-0.07294601558378536: <rdkit.Chem.rdchem.Mol at 0x741784aaa570>,\n",
       " -0.06631455962162307: <rdkit.Chem.rdchem.Mol at 0x741784aaa1b0>,\n",
       " -0.05968310365946075: <rdkit.Chem.rdchem.Mol at 0x741784aaa160>,\n",
       " -0.05305164769729844: <rdkit.Chem.rdchem.Mol at 0x741784aa92b0>,\n",
       " -0.046420191735136146: <rdkit.Chem.rdchem.Mol at 0x741784a3b330>,\n",
       " -0.039788735772973836: <rdkit.Chem.rdchem.Mol at 0x741784a3b2e0>,\n",
       " -0.033157279810811534: <rdkit.Chem.rdchem.Mol at 0x741784a3b290>,\n",
       " -0.02652582384864922: <rdkit.Chem.rdchem.Mol at 0x741784a3b240>,\n",
       " -0.019894367886486918: <rdkit.Chem.rdchem.Mol at 0x741784a3b1f0>,\n",
       " -0.01326291192432461: <rdkit.Chem.rdchem.Mol at 0x741784a3b060>,\n",
       " -0.006631455962162305: <rdkit.Chem.rdchem.Mol at 0x741784a3b100>,\n",
       " 0.0: <rdkit.Chem.rdchem.Mol at 0x741784a3b0b0>,\n",
       " 0.006631455962162305: <rdkit.Chem.rdchem.Mol at 0x741784a3b010>,\n",
       " 0.01326291192432461: <rdkit.Chem.rdchem.Mol at 0x741784a3afc0>,\n",
       " 0.019894367886486918: <rdkit.Chem.rdchem.Mol at 0x741784a3af70>,\n",
       " 0.02652582384864922: <rdkit.Chem.rdchem.Mol at 0x741784a3a660>,\n",
       " 0.033157279810811534: <rdkit.Chem.rdchem.Mol at 0x741784a3a610>,\n",
       " 0.039788735772973836: <rdkit.Chem.rdchem.Mol at 0x741784a3a5c0>,\n",
       " 0.046420191735136146: <rdkit.Chem.rdchem.Mol at 0x741784a3b1a0>,\n",
       " 0.05305164769729844: <rdkit.Chem.rdchem.Mol at 0x741784a3b150>,\n",
       " 0.05968310365946075: <rdkit.Chem.rdchem.Mol at 0x741784a3b5b0>,\n",
       " 0.06631455962162307: <rdkit.Chem.rdchem.Mol at 0x741784a3b560>,\n",
       " 0.07294601558378536: <rdkit.Chem.rdchem.Mol at 0x741784a3b380>,\n",
       " 0.07957747154594767: <rdkit.Chem.rdchem.Mol at 0x74178579ed90>}"
      ]
     },
     "execution_count": 5,
     "metadata": {},
     "output_type": "execute_result"
    }
   ],
   "source": [
    "def qcmol_to_rdkit(qcmol):\n",
    "#     # qcelemental mol data\n",
    "#     symbols = qcmol.symbols\n",
    "#     geometry = qcmol.geometry\n",
    "#     connectivity = qcmol.connectivity\n",
    "    \n",
    "#     # empty RDKit molecule\n",
    "#     mol = Chem.RWMol()\n",
    "    \n",
    "#     # add atoms to the molecule\n",
    "#     atom_indices = []\n",
    "#     for symbol in symbols:\n",
    "#         atom = Chem.Atom(symbol)\n",
    "#         idx = mol.AddAtom(atom)\n",
    "#         atom_indices.append(idx)\n",
    "#         #print(atom, idx, atom_indices)\n",
    "#     # add bonds to the molecule\n",
    "#     for i, j, order in connectivity:\n",
    "#         bond_order = Chem.BondType.SINGLE if order == 1.0 else Chem.BondType.DOUBLE if order == 2.0 else Chem.BondType.TRIPLE\n",
    "#         mol.AddBond(atom_indices[i], atom_indices[j], bond_order)\n",
    "    \n",
    "#     # convert to an editable Mol object\n",
    "#     mole = mol.GetMol()\n",
    "    \n",
    "#     # generate an initial conformer and set the coordinates\n",
    "#     conf = Chem.Conformer(mol.GetNumAtoms())\n",
    "#     for i, (x, y, z) in enumerate(geometry):\n",
    "#         conf.SetAtomPosition(i, Point3D(x, y, z))\n",
    "#     mol.AddConformer(conf)\n",
    "    mol = Molecule.from_qcschema(qcmol)\n",
    "    rdkit_mol = mol.to_rdkit()\n",
    "    return rdkit_mol\n",
    "\n",
    "def gen_mol_dict(td_result):\n",
    "    mol_dict = {}\n",
    "    dihedral_idxs = td_result.keywords.dihedrals[0]\n",
    "    for angle, qcmol in td_result.final_molecules.items():\n",
    "        energy = td_result.final_energies[angle]\n",
    "        mol = qcmol_to_rdkit(qcmol)\n",
    "        for i,idx in enumerate(dihedral_idxs):\n",
    "            mol.SetProp(f'dihedral_{i}', str(idx))\n",
    "        mol.SetProp('energy', str(energy))\n",
    "        mol_dict[(float(angle)/360) / (2*np.pi)] = Chem.Mol(mol)\n",
    "    return mol_dict\n",
    "    \n",
    "mol_dict = gen_mol_dict(td_result)\n",
    "for mol in mol_dict.values():\n",
    "    print(mol.GetProp('energy'))\n",
    "mol_dict"
   ]
  },
  {
   "cell_type": "code",
   "execution_count": 6,
   "id": "d75b74e2-f92c-4532-a98b-c155d3ff6f6a",
   "metadata": {
    "scrolled": true
   },
   "outputs": [],
   "source": [
    "from rdkit import Chem\n",
    "from rdkit.Chem import AllChem\n",
    "from rdkit.Chem import rdMolTransforms\n",
    "import numpy as np\n",
    "\n",
    "# random mol\n",
    "mol = mol_dict[0.0]"
   ]
  },
  {
   "cell_type": "code",
   "execution_count": 7,
   "id": "c6dbb241-07dc-4d42-b809-92ef489ff99a",
   "metadata": {
    "scrolled": true
   },
   "outputs": [
    {
     "name": "stdout",
     "output_type": "stream",
     "text": [
      "Bond between Atom 0 (N) and Atom 4 (C)\n",
      "Bond between Atom 0 (N) and Atom 1 (C)\n",
      "Bond between Atom 1 (C) and Atom 5 (N)\n",
      "Bond between Atom 1 (C) and Atom 2 (C)\n",
      "Bond between Atom 2 (C) and Atom 3 (S)\n",
      "Bond between Atom 2 (C) and Atom 6 (C)\n",
      "Bond between Atom 3 (S) and Atom 7 (C)\n",
      "Bond between Atom 4 (C) and Atom 8 (C)\n",
      "Bond between Atom 4 (C) and Atom 13 (H)\n",
      "Bond between Atom 5 (N) and Atom 9 (C)\n",
      "Bond between Atom 6 (C) and Atom 10 (C)\n",
      "Bond between Atom 6 (C) and Atom 11 (H)\n",
      "Bond between Atom 7 (C) and Atom 10 (C)\n",
      "Bond between Atom 7 (C) and Atom 14 (H)\n",
      "Bond between Atom 8 (C) and Atom 9 (C)\n",
      "Bond between Atom 8 (C) and Atom 15 (H)\n",
      "Bond between Atom 9 (C) and Atom 16 (H)\n",
      "Bond between Atom 10 (C) and Atom 12 (H)\n"
     ]
    },
    {
     "data": {
      "image/png": "[encoded data removed]",
      "text/html": [
       "<table><tr><td colspan=\"2\" style=\"text-align: center;\"><image src=\"data:image/png;base64,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\"></td></tr>\n",
       "<tr><th style=\"text-align: right\">dihedral_0</th><td style=\"text-align: left\">0</td></tr>\n",
       "<tr><th style=\"text-align: right\">dihedral_1</th><td style=\"text-align: left\">1</td></tr>\n",
       "<tr><th style=\"text-align: right\">dihedral_2</th><td style=\"text-align: left\">2</td></tr>\n",
       "<tr><th style=\"text-align: right\">dihedral_3</th><td style=\"text-align: left\">3</td></tr>\n",
       "<tr><th style=\"text-align: right\">energy</th><td style=\"text-align: left\">-816.506481242779</td></tr></table>"
      ],
      "text/plain": [
       "<rdkit.Chem.rdchem.Mol at 0x741784a3b0b0>"
      ]
     },
     "execution_count": 7,
     "metadata": {},
     "output_type": "execute_result"
    }
   ],
   "source": [
    "# get the conformer \n",
    "conformer = mol.GetConformer(0)\n",
    "\n",
    "# Iterate over all bonds in the molecule\n",
    "for bond in mol.GetBonds():\n",
    "    # Get the atoms associated with the bond\n",
    "    atom1 = bond.GetBeginAtom() \n",
    "    atom2 = bond.GetEndAtom()   \n",
    "    \n",
    "    \n",
    "    print(f\"Bond between Atom {atom1.GetIdx()} ({atom1.GetSymbol()}) \"\n",
    "          f\"and Atom {atom2.GetIdx()} ({atom2.GetSymbol()})\")\n",
    "def mol_with_atom_index(mol):\n",
    "    for atom in mol.GetAtoms():\n",
    "        atom.SetAtomMapNum(atom.GetIdx())\n",
    "    return mol\n",
    "\n",
    "# identifies atoms /w dihedral\n",
    "mol_with_atom_index(mol)"
   ]
  },
  {
   "cell_type": "code",
   "execution_count": 8,
   "id": "3bd84f8d-95f7-4dc0-ba53-d4e106b02dc6",
   "metadata": {
    "scrolled": true
   },
   "outputs": [],
   "source": [
    "def get_dihedrals(mol, return_features=True):\n",
    "        # get list of sets of atom indexes\n",
    "        # every atom connected to begin atom\n",
    "        # with every atom connected to end atom\n",
    "        # [X, begin, end, Y] e.g. ethane has 3*3, so list of lists, len 9\n",
    "        \n",
    "        begin_atom = int(mol.GetProp('dihedral_1'))\n",
    "        end_atom = int(mol.GetProp('dihedral_2'))\n",
    "        conformer=mol.GetConformer(0)\n",
    "        #print(f'begin atom: {begin_atom}; end atom: {end_atom}')\n",
    "    \n",
    "        # get neighbours of the begin atom\n",
    "        begin_neighbours = mol.GetAtomWithIdx(begin_atom).GetNeighbors()\n",
    "        begin_nbr_idxs = [neighbour.GetIdx() for neighbour in begin_neighbours]\n",
    "        #print(\"Begin atom neighbors:\", begin_nbr_idxs)\n",
    "        \n",
    "        # and for end\n",
    "        end_neighbours = mol.GetAtomWithIdx(end_atom).GetNeighbors()\n",
    "        end_nbr_idxs = [neighbour.GetIdx() for neighbour in end_neighbours]\n",
    "        #print(\"End atom neighbors:\", end_nbr_idxs)\n",
    "        \n",
    "        # get indices for dihedrals by looping through bond atom neighbours\n",
    "        # first remove neighbour that is in the bond\n",
    "        begin_nbr_idxs.remove(end_atom)\n",
    "        end_nbr_idxs.remove(begin_atom)\n",
    "    \n",
    "        dihedral_indices = []\n",
    "        for nbr_b in begin_nbr_idxs:\n",
    "            for nbr_e in end_nbr_idxs:\n",
    "                dihedral = [nbr_b] + [begin_atom, end_atom] + [nbr_e]\n",
    "                dihedral_indices.append(dihedral)\n",
    "        dihedral_atoms = [mol.GetAtomWithIdx(idx[0]) for idx in dihedral_indices]\n",
    "\n",
    "        if return_features:\n",
    "            # generating features as dummy atomic number\n",
    "            c = [atm.GetAtomicNum() for atm in dihedral_atoms]\n",
    "\n",
    "        # calc dihedral angle for each\n",
    "        dihedral_angles = []\n",
    "        conf = mol.GetConformer(0)\n",
    "        for indices in dihedral_indices:\n",
    "            #print(indices)\n",
    "            dihedral = rdMolTransforms.GetDihedralRad(conf, *indices)\n",
    "            dihedral_angles.append(dihedral)\n",
    "            #print(dihedral)\n",
    "        #print(dihedral_indices)\n",
    "        #print(dihedral_angles)\n",
    "        return np.array(dihedral_angles), np.array(c)\n",
    "\n",
    "#def compute_features\n",
    "dihedrals, c = get_dihedrals(mol)"
   ]
  },
  {
   "cell_type": "code",
   "execution_count": 9,
   "id": "7fcd1200-0ccf-4a26-a29b-09e5a572957d",
   "metadata": {
    "scrolled": true
   },
   "outputs": [],
   "source": [
    "output_sdf = 'output_conformers.sdf'\n",
    "sdf_writer = Chem.SDWriter(output_sdf)\n",
    "\n",
    "for mol in mol_dict.values():\n",
    "    for conf_id in range(mol.GetNumConformers()):\n",
    "        mol.SetProp('conformer', str(conf_id))\n",
    "        sdf_writer.write(mol)\n",
    "\n",
    "sdf_writer.close()\n"
   ]
  },
  {
   "cell_type": "code",
   "execution_count": 10,
   "id": "208d077d-a819-4448-abae-c507c5d62ae7",
   "metadata": {
    "scrolled": true
   },
   "outputs": [
    {
     "name": "stdout",
     "output_type": "stream",
     "text": [
      "dihedrals: [-2.87979327  0.20703977  0.23620264 -2.96014963], angle: -0.07294601558378536, alpha: 1.3491751227135165, energy: -816.505816559494\n",
      "dihedrals: [-2.61799388  0.41832043  0.47613397 -2.77073703], angle: -0.06631455962162307, alpha: 1.1235691269306358, energy: -816.5039187209546\n",
      "dihedrals: [-2.35619449  0.64848229  0.72523613 -2.55327239], angle: -0.05968310365946075, alpha: 0.8839371147848036, energy: -816.5011012287301\n",
      "dihedrals: [-2.0943951   0.90765469  0.98849976 -2.29263576], angle: -0.05305164769729844, alpha: 0.6227191050943783, energy: -816.4979629209311\n",
      "dihedrals: [-1.83259571  1.21758002  1.27141981 -1.96158977], angle: -0.046420191735136146, alpha: 0.32629641484731825, energy: -816.4954187225007\n",
      "dihedrals: [-1.57079633  1.57215427  1.5730571  -1.56717761], angle: -0.039788735772973836, alpha: -0.0018093599626635272, energy: -816.494428046986\n",
      "dihedrals: [-1.30899694  1.91770414  1.87235489 -1.18412934], angle: -0.033157279810811534, alpha: -0.32423318821684294, energy: -816.4954301422798\n",
      "dihedrals: [-1.04719755  2.225461    2.1533638  -0.85716295], angle: -0.02652582384864922, alpha: -0.6186160741381822, energy: -816.4979679186425\n",
      "dihedrals: [-0.78539816  2.48799725  2.41444457 -0.59534532], angle: -0.019894367886486918, alpha: -0.8804245853416348, energy: -816.5010865037865\n",
      "dihedrals: [-0.52359878  2.71970545  2.66138862 -0.37849246], angle: -0.01326291192432461, alpha: -1.1197507088949872, energy: -816.5038982293839\n",
      "dihedrals: [-0.26179939  2.93472189  2.90247291 -0.18419112], angle: -0.006631455962162305, alpha: -1.3478010708662649, energy: -816.5058087109574\n",
      "dihedrals: [-2.84466992e-17  3.14159265e+00  3.14159265e+00 -3.49040051e-11], angle: 0.0, alpha: 0.0, energy: -816.506481242779\n",
      "dihedrals: [ 0.26179939 -2.93458457 -2.90270763  0.18409372], angle: 0.006631455962162305, alpha: -1.7937428828219468, energy: -816.505808917845\n",
      "dihedrals: [ 0.52359878 -2.71968906 -2.66137783  0.37851964], angle: 0.01326291192432461, alpha: -2.0218555350481466, energy: -816.5038983176088\n",
      "dihedrals: [ 0.78539816 -2.48489351 -2.41430398  0.59858965], angle: 0.019894367886486918, alpha: -2.262790235867379, energy: -816.5010866947375\n",
      "dihedrals: [ 1.04719755 -2.22390293 -2.15274088  0.85934395], angle: 0.02652582384864922, alpha: -2.5240670776361003, energy: -816.4979678635927\n",
      "dihedrals: [ 1.30899694 -1.92179917 -1.87315154  1.17923766], angle: 0.033157279810811534, alpha: -2.8149136243764796, energy: -816.4954297335078\n",
      "dihedrals: [ 1.57079633 -1.57106211 -1.57299514  1.56833174], angle: 0.039788735772973836, alpha: -3.140360358102561, energy: -816.4944281315253\n",
      "dihedrals: [ 1.83259571 -1.21948741 -1.27217841  1.95892377], angle: 0.046420191735136146, alpha: 2.8166292368535846, energy: -816.495418981877\n",
      "dihedrals: [ 2.0943951  -0.90454146 -0.98761497  2.29663377], angle: 0.05305164769729844, alpha: 2.5168745428335377, energy: -816.4979625597838\n",
      "dihedrals: [ 2.35619449 -0.64598073 -0.72499856  2.55601152], angle: 0.05968310365946075, alpha: 2.256285974127971, energy: -816.5011010654134\n",
      "dihedrals: [ 2.61799388 -0.41831889 -0.47613335  2.77073918], angle: 0.06631455962162307, alpha: 2.018022449410245, energy: -816.5039187926249\n",
      "dihedrals: [ 2.87979327 -0.20891707 -0.23527327  2.9592017 ], angle: 0.07294601558378536, alpha: 1.7928914979854185, energy: -816.5058167183216\n",
      "dihedrals: [-3.14159265e+00  3.32224968e-05 -2.04884873e-05 -3.14157992e+00], angle: 0.07957747154594767, alpha: -1.5708027572360974, energy: -816.5064807405599\n"
     ]
    }
   ],
   "source": [
    "dihedral_list = []\n",
    "alphas = []\n",
    "final_energies = []\n",
    "for angle, mol in mol_dict.items():\n",
    "    dihedrals, c = get_dihedrals(mol)\n",
    "    s = calc_s(dihedrals, c)\n",
    "    alpha = calc_alpha(s)\n",
    "    energy = float(mol.GetProp('energy'))\n",
    "    alphas.append(alpha)\n",
    "    final_energies.append(energy)\n",
    "    print(f'dihedrals: {dihedrals}, angle: {angle}, alpha: {alpha}, energy: {energy}')"
   ]
  },
  {
   "cell_type": "code",
   "execution_count": 11,
   "id": "706ff870-41a2-457c-91a6-e8dd36774d28",
   "metadata": {
    "scrolled": true
   },
   "outputs": [
    {
     "data": {
      "image/png": "[encoded data removed]",
      "text/plain": [
       "<Figure size 640x480 with 1 Axes>"
      ]
     },
     "metadata": {},
     "output_type": "display_data"
    }
   ],
   "source": [
    "#plot alphas vs final_energies\n",
    "import pylab \n",
    "\n",
    "pylab.plot(alphas, final_energies)\n",
    "pylab.ylabel(\"energy / hartree\")\n",
    "pylab.xlabel(\"alpha / rad?\")\n",
    "pylab.savefig(\"out.png\")"
   ]
  },
  {
   "cell_type": "code",
   "execution_count": null,
   "id": "2054558c-ff8a-4a1c-aa10-5403cbb1f21e",
   "metadata": {
    "scrolled": true
   },
   "outputs": [],
   "source": []
  },
  {
   "cell_type": "code",
   "execution_count": null,
   "id": "fe268a07-ea03-4b84-84a6-1bd99c6066b4",
   "metadata": {
    "scrolled": true
   },
   "outputs": [],
   "source": []
  },
  {
   "cell_type": "code",
   "execution_count": 12,
   "id": "099a8545-cdbc-4bf6-8313-472c5d584ed4",
   "metadata": {
    "jupyter": {
     "source_hidden": true
    }
   },
   "outputs": [
    {
     "ename": "SyntaxError",
     "evalue": "invalid syntax (3959535123.py, line 35)",
     "output_type": "error",
     "traceback": [
      "\u001b[0;36m  Cell \u001b[0;32mIn[12], line 35\u001b[0;36m\u001b[0m\n\u001b[0;31m    for each mol in td_result.final_molecules.items():\u001b[0m\n\u001b[0m             ^\u001b[0m\n\u001b[0;31mSyntaxError\u001b[0m\u001b[0;31m:\u001b[0m invalid syntax\n"
     ]
    }
   ],
   "source": [
    "writer = Chem.SDWriter('mol90.sdf')\n",
    "for cid in range(mol_90.GetNumConformers()):\n",
    "    writer.write(mol_90, confId=cid)\n",
    "\n",
    "from rdkit import Chem\n",
    "from rdkit.Chem import AllChem\n",
    "from rdkit.Geometry import Point3D\n",
    "import numpy as np\n",
    "\n",
    "# SMILES string\n",
    "smi = '[H:16][c:9]1[c:5]([n:1][c:2]([n:6][c:10]1[H:17])[C:3]2=[C:7]([C:11](=[C:8]([S:4]2)[H:15])[H:13])[H:12])[H:14]'\n",
    "\n",
    "# Create molecule from SMILES\n",
    "mol = Chem.MolFromSmarts(smi)\n",
    "\n",
    "\n",
    "# Generate initial 3D conformer to assign geometry\n",
    "AllChem.EmbedMolecule(mol)\n",
    "\n",
    "# Coordinates array (17,3) \n",
    "coords = mol_16_165.geometry # np array (17,3)\n",
    "\n",
    "# Set atom positions using coords array\n",
    "conf = mol.GetConformer()\n",
    "for i in range(mol.GetNumAtoms()):\n",
    "    x, y, z = coords[i]\n",
    "    print(coords[i])\n",
    "    conf.SetAtomPosition(i, Point3D(x, y, z))\n",
    "\n",
    "# Write molecule to SDF file\n",
    "with Chem.SDWriter('output_molecule.sdf') as writer:\n",
    "    writer.write(mol)\n",
    "\n",
    "\n",
    "for each mol in td_result.final_molecules.items():\n",
    "\n",
    "file = 'biaryl_minimal/result_biaryl_016.json'\n",
    "td_result = TorsionDriveResult.parse_file(file)\n",
    "smiles = td_result.initial_molecule[0].extras[\"canonical_isomeric_explicit_hydrogen_mapped_smiles\"]\n",
    "name = smiles.replace(\"/\", \"\")\n",
    "\n",
    "# create a dataset in the same style as the SPICE HDF5\n",
    "import h5py\n",
    "from qcelemental.models.procedures import TorsionDriveResult\n",
    "import numpy as np\n",
    "import pathlib\n",
    "\n",
    "# folder = pathlib.Path(\"TNet500_minimal\")\n",
    "# outputfile = h5py.File('TNet500-SPICE.hdf5', 'w')\n",
    "\n",
    "folder = pathlib.Path(\"biaryl_minimal\")\n",
    "outputfile = h5py.File('test2-Biaryl-SPICE.hdf5', 'w')\n",
    "        \n",
    "\n",
    "def main():\n",
    "\n",
    "    for file in folder.rglob(\"*.json\"):\n",
    "        print(file)\n",
    "        td_result = TorsionDriveResult.parse_file(file)\n",
    "        smiles = td_result.initial_molecule[0].extras[\"canonical_isomeric_explicit_hydrogen_mapped_smiles\"]\n",
    "        print(f'smi: {smiles}, {len(smiles)}')\n",
    "        name = smiles.replace(\"/\", \"\")\n",
    "        group = outputfile.create_group(name)\n",
    "        group.create_dataset(\"smiles\", data=[smiles], dtype=h5py.string_dtype())\n",
    "        group.create_dataset(\"atomic_numbers\", data=td_result.initial_molecule[0].atomic_numbers, dtype=np.int16)\n",
    "        energies, gradients, conformations = [], [], []\n",
    "        for angle, molecule in td_result.final_molecules.items():\n",
    "            energies.append(td_result.final_energies[angle])\n",
    "            conformations.append(molecule.geometry)\n",
    "            gradients.append(td_result.optimization_history[angle][0].trajectory[0].properties.return_gradient)\n",
    "        conformations = group.create_dataset(\"conformations\", data=np.array(conformations), dtype=np.float32)\n",
    "        conformations.attrs[\"units\"] = \"bohr\"\n",
    "        ds = group.create_dataset(\"dft total energy\", data=np.array(energies), dtype=np.float64)\n",
    "        ds.attrs[\"units\"] = \"hartree\"\n",
    "        ds = group.create_dataset('dft total gradient', data=np.array(gradients), dtype=np.float32)\n",
    "        ds.attrs[\"units\"] = \"hartree/bohr\"\n",
    "\n",
    "\n",
    "if __name__ == \"__main__\":\n",
    "    main()"
   ]
  },
  {
   "cell_type": "code",
   "execution_count": null,
   "id": "5b68a6e4-bbb0-4b43-82c6-f7395875cfd3",
   "metadata": {},
   "outputs": [],
   "source": []
  },
  {
   "cell_type": "code",
   "execution_count": null,
   "id": "1cbaf0eb-acc8-4804-aba9-8bad01c1c7a1",
   "metadata": {},
   "outputs": [],
   "source": []
  },
  {
   "cell_type": "code",
   "execution_count": null,
   "id": "637697f9-32a4-445a-9b21-2bbb1af5e959",
   "metadata": {},
   "outputs": [],
   "source": []
  }
 ],
 "metadata": {
  "kernelspec": {
   "display_name": "nagl",
   "language": "python",
   "name": "nagl"
  },
  "language_info": {
   "codemirror_mode": {
    "name": "ipython",
    "version": 3
   },
   "file_extension": ".py",
   "mimetype": "text/x-python",
   "name": "python",
   "nbconvert_exporter": "python",
   "pygments_lexer": "ipython3",
   "version": "3.12.7"
  },
  "widgets": {
   "application/vnd.jupyter.widget-state+json": {
    "state": {},
    "version_major": 2,
    "version_minor": 0
   }
  }
 },
 "nbformat": 4,
 "nbformat_minor": 5
}
