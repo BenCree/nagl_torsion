{
 "cells": [
  {
   "cell_type": "code",
   "execution_count": 64,
   "id": "fcaf66ca-d7b9-495a-b06e-90c2a05b9e86",
   "metadata": {},
   "outputs": [
    {
     "name": "stdout",
     "output_type": "stream",
     "text": [
      "original torsions: [0.        2.0943951 4.1887902 0.        2.0943951 4.1887902 0.\n",
      " 2.0943951 4.1887902], \n",
      "rotated torsions: [0.78539816 2.87979327 4.97418837 0.78539816 2.87979327 4.97418837\n",
      " 0.78539816 2.87979327 4.97418837]\n",
      "c*s = [[ 1.         0.       ]\n",
      " [-0.5        0.8660254]\n",
      " [-0.5       -0.8660254]\n",
      " [ 1.         0.       ]\n",
      " [-0.5        0.8660254]\n",
      " [-0.5       -0.8660254]\n",
      " [ 1.         0.       ]\n",
      " [-0.5        0.8660254]\n",
      " [-0.5       -0.8660254]]\n",
      "c*s = [[ 0.70710678  0.70710678]\n",
      " [-0.96592583  0.25881905]\n",
      " [ 0.25881905 -0.96592583]\n",
      " [ 0.70710678  0.70710678]\n",
      " [-0.96592583  0.25881905]\n",
      " [ 0.25881905 -0.96592583]\n",
      " [ 0.70710678  0.70710678]\n",
      " [-0.96592583  0.25881905]\n",
      " [ 0.25881905 -0.96592583]]\n",
      "original s: [-6.66133815e-16  9.99200722e-16], \n",
      "rotated s: [-9.99200722e-16  0.00000000e+00]\n",
      "original a: 1.5707963267948957, \n",
      "rotated a: 1.5707963267948966\n"
     ]
    }
   ],
   "source": [
    "import numpy as np\n",
    "\n",
    "pi = np.pi\n",
    "\n",
    "# loop through all torsions for C -- C bond\n",
    "delta_ij = np.array([0, 2*pi/3, 4*pi/3, 0, 2*pi/3, 4*pi/3, 0, 2*pi/3, 4*pi/3])\n",
    "\n",
    "\n",
    "\n",
    "c_25 = 1\n",
    "c_26 = 1\n",
    "c_27 = 1\n",
    "c_35 = 1\n",
    "c_36 = 1\n",
    "c_37 = 1\n",
    "c_45 = 1\n",
    "c_46 = 1\n",
    "c_47 = 1\n",
    "\n",
    "c_ij = np.array([c_25, c_26, c_27, c_35, c_36, c_37, c_45, c_46, c_47])\n",
    "\n",
    "def calc_s(delta_ij, c_ij):\n",
    "    '''given ∆_(ij) returns a vector [cos(∆_(ij)), sin(∆_(ij))], s'''\n",
    "    # turn into a 9X2 array\n",
    "    s_ij = np.vstack((np.cos(delta_ij), np.sin(delta_ij))).T \n",
    "    \n",
    "    cs_ij = c_ij[:, np.newaxis] * s_ij\n",
    "    print(f'c*s = {s_ij}')\n",
    "    s = np.sum(cs_ij, axis=0)\n",
    "    return s\n",
    "\n",
    "def calc_alpha(s):\n",
    "    '''given s returns a torsion angle, alpha'''\n",
    "    r = np.sqrt(s[0]**2 + s[1]**2)\n",
    "    #print(r)\n",
    "    alpha = np.arctan2(r*np.cos(s[0]), r*np.sin(s[1]))\n",
    "    return alpha\n",
    "\n",
    "# rotate by some amount\n",
    "gamma = pi/4\n",
    "\n",
    "rotated_delta_ij = delta_ij + gamma\n",
    "print(f'original torsions: {delta_ij}, \\nrotated torsions: {rotated_delta_ij}')\n",
    "\n",
    "s = calc_s(delta_ij, c_ij)\n",
    "s_rotated = calc_s(rotated_delta_ij, c_ij)\n",
    "print(f'original s: {s}, \\nrotated s: {s_rotated}')\n",
    "\n",
    "a = calc_alpha(s)\n",
    "a_rotated = calc_alpha(s_rotated)\n",
    "print(f'original a: {a}, \\nrotated a: {a_rotated}')\n"
   ]
  },
  {
   "cell_type": "code",
   "execution_count": null,
   "id": "b7b8f1d8-3138-46d0-bff0-fad646d1eacf",
   "metadata": {},
   "outputs": [],
   "source": []
  }
 ],
 "metadata": {
  "kernelspec": {
   "display_name": "nagl",
   "language": "python",
   "name": "nagl"
  },
  "language_info": {
   "codemirror_mode": {
    "name": "ipython",
    "version": 3
   },
   "file_extension": ".py",
   "mimetype": "text/x-python",
   "name": "python",
   "nbconvert_exporter": "python",
   "pygments_lexer": "ipython3",
   "version": "3.12.7"
  }
 },
 "nbformat": 4,
 "nbformat_minor": 5
}
